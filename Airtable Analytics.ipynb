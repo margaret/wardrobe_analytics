{
 "cells": [
  {
   "cell_type": "markdown",
   "metadata": {},
   "source": [
    "# Airtable Wardrobe Analytics"
   ]
  },
  {
   "cell_type": "code",
   "execution_count": 1,
   "metadata": {
    "collapsed": true
   },
   "outputs": [],
   "source": [
    "import os\n",
    "\n",
    "%matplotlib inline\n",
    "import matplotlib\n",
    "import pandas as pd\n",
    "import matplotlib.pyplot as plt\n",
    "\n",
    "from airtable import airtable"
   ]
  },
  {
   "cell_type": "markdown",
   "metadata": {},
   "source": [
    "## Setup\n",
    "Set your airtable key and base id as environment variables and import them. You can get your key on your 'Account' page"
   ]
  },
  {
   "cell_type": "code",
   "execution_count": 2,
   "metadata": {
    "collapsed": true
   },
   "outputs": [],
   "source": [
    "AIRTABLE_KEY = os.environ.get('AIRTABLE_KEY')\n",
    "BASE_ID = os.environ.get('AIRTABLE_BASE_ID')"
   ]
  },
  {
   "cell_type": "code",
   "execution_count": 3,
   "metadata": {
    "collapsed": true
   },
   "outputs": [],
   "source": [
    "at = airtable.Airtable(BASE_ID, AIRTABLE_KEY)"
   ]
  },
  {
   "cell_type": "markdown",
   "metadata": {},
   "source": [
    "## Get tables\n",
    "These are my tables. They all should have mostly identical schemas. Not generated programmatically, need to clean them up."
   ]
  },
  {
   "cell_type": "code",
   "execution_count": 4,
   "metadata": {
    "collapsed": true
   },
   "outputs": [],
   "source": [
    "# for reference\n",
    "OUTFITS = 'Outfits'\n",
    "CATEGORIES = [\n",
    "    'Tops',\n",
    "    'Bottoms',\n",
    "    'Dresses',\n",
    "    'Shoes',\n",
    "    'Outerwear',\n",
    "    'Layering',\n",
    "    'Accessories',\n",
    "    'Scarves',\n",
    "    'Bags',\n",
    "    'Swimwear'\n",
    "]"
   ]
  },
  {
   "cell_type": "code",
   "execution_count": null,
   "metadata": {
    "collapsed": true
   },
   "outputs": [],
   "source": [
    "def records_to_df(table):\n",
    "    return pd.DataFrame([record['fields'] for record in table['records']])"
   ]
  },
  {
   "cell_type": "code",
   "execution_count": null,
   "metadata": {},
   "outputs": [],
   "source": [
    "# This takes a couple of seconds\n",
    "TABLES = {category:records_to_df(at.get(category)) for category in CATEGORIES}"
   ]
  },
  {
   "cell_type": "markdown",
   "metadata": {},
   "source": [
    "## Functions for analytics & visualization\n",
    "\n",
    "Just some simple stuff to start with"
   ]
  },
  {
   "cell_type": "code",
   "execution_count": null,
   "metadata": {
    "collapsed": true
   },
   "outputs": [],
   "source": [
    "def sort_by_wears(df):\n",
    "     return df.sort_values(by='# Outfits', ascending=False)"
   ]
  },
  {
   "cell_type": "code",
   "execution_count": null,
   "metadata": {
    "collapsed": true
   },
   "outputs": [],
   "source": [
    "def plot_wears(table, name=None):\n",
    "    table_by_wears = sort_by_wears(table)\n",
    "    table_by_wears.plot(x='Name', y='# Outfits', kind='bar', title=name, rot=90)"
   ]
  },
  {
   "cell_type": "code",
   "execution_count": null,
   "metadata": {
    "collapsed": true
   },
   "outputs": [],
   "source": [
    "def top_n_items(df, n=3):\n",
    "    \"\"\"Just truncates the DataFrame, so won't get all of them if you\n",
    "    have multiple items with the same '# Outfits' values.\"\"\"\n",
    "    sorted_by_wears = sort_by_wears(df)\n",
    "    return sorted_by_wears[['Name', '# Outfits']].head(n)"
   ]
  },
  {
   "cell_type": "code",
   "execution_count": null,
   "metadata": {
    "collapsed": true
   },
   "outputs": [],
   "source": [
    "def plot_each_by_wears():\n",
    "    for table in TABLES:\n",
    "        try:\n",
    "            plot_wears(TABLES[table], name=table)\n",
    "        except KeyError as e:\n",
    "            print(\"Could not plot {0}. Fields are {1}\".format(table, TABLES[table].keys()))"
   ]
  },
  {
   "cell_type": "code",
   "execution_count": null,
   "metadata": {
    "collapsed": true
   },
   "outputs": [],
   "source": [
    "def print_each_top_4():\n",
    "    for tablename,table in TABLES.items():\n",
    "        print(tablename)\n",
    "        print(top_n_items(table, 4))\n",
    "        print('-'*80)"
   ]
  },
  {
   "cell_type": "markdown",
   "metadata": {},
   "source": [
    "## Number of wears for each type of item"
   ]
  },
  {
   "cell_type": "code",
   "execution_count": null,
   "metadata": {},
   "outputs": [],
   "source": [
    "plot_each_by_wears()"
   ]
  },
  {
   "cell_type": "markdown",
   "metadata": {},
   "source": [
    "## Top Items\n",
    "\n",
    "Because the labels are hard to read in the graphs"
   ]
  },
  {
   "cell_type": "code",
   "execution_count": null,
   "metadata": {},
   "outputs": [],
   "source": [
    "print_each_top_4()"
   ]
  },
  {
   "cell_type": "code",
   "execution_count": null,
   "metadata": {
    "collapsed": true
   },
   "outputs": [],
   "source": []
  }
 ],
 "metadata": {
  "kernelspec": {
   "display_name": "Python 3",
   "language": "python",
   "name": "python3"
  },
  "language_info": {
   "codemirror_mode": {
    "name": "ipython",
    "version": 3
   },
   "file_extension": ".py",
   "mimetype": "text/x-python",
   "name": "python",
   "nbconvert_exporter": "python",
   "pygments_lexer": "ipython3",
   "version": "3.5.3"
  }
 },
 "nbformat": 4,
 "nbformat_minor": 2
}
